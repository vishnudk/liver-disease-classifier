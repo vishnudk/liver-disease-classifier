{
  "nbformat": 4,
  "nbformat_minor": 0,
  "metadata": {
    "kernelspec": {
      "display_name": "Python 3.7.4 64-bit ('anaconda3': virtualenv)",
      "language": "python",
      "name": "python37464bitanaconda3virtualenv6f15a972cccf4ef3949773945a15cf04"
    },
    "language_info": {
      "codemirror_mode": {
        "name": "ipython",
        "version": 3
      },
      "file_extension": ".py",
      "mimetype": "text/x-python",
      "name": "python",
      "nbconvert_exporter": "python",
      "pygments_lexer": "ipython3",
      "version": "3.7.4"
    },
    "colab": {
      "name": "indian_liver.ipynb",
      "provenance": [],
      "collapsed_sections": [],
      "include_colab_link": true
    }
  },
  "cells": [
    {
      "cell_type": "markdown",
      "metadata": {
        "id": "view-in-github",
        "colab_type": "text"
      },
      "source": [
        "<a href=\"https://colab.research.google.com/github/vishnudk/liver-disease-classifier/blob/master/indian_liver.ipynb\" target=\"_parent\"><img src=\"https://colab.research.google.com/assets/colab-badge.svg\" alt=\"Open In Colab\"/></a>"
      ]
    },
    {
      "cell_type": "code",
      "metadata": {
        "id": "F8pcUzkBt00W",
        "colab_type": "code",
        "colab": {}
      },
      "source": [
        "import numpy as np\n",
        "import pandas as pd\n",
        "from matplotlib import pyplot as plt\n",
        "import seaborn as sns\n",
        "from sklearn.metrics import confusion_matrix \n",
        "# from sklearn.cross_validation import train_test_split \n",
        "from sklearn.tree import DecisionTreeClassifier \n",
        "from sklearn.metrics import accuracy_score \n",
        "from sklearn.metrics import classification_report "
      ],
      "execution_count": 0,
      "outputs": []
    },
    {
      "cell_type": "code",
      "metadata": {
        "id": "6I69JBC3t00i",
        "colab_type": "code",
        "colab": {}
      },
      "source": [
        "data=pd.read_csv(\"indian_liver_patient.csv\")"
      ],
      "execution_count": 0,
      "outputs": []
    },
    {
      "cell_type": "code",
      "metadata": {
        "id": "nriPSfPkt00u",
        "colab_type": "code",
        "outputId": "3b1e7f43-6394-49b5-e9b3-29f83f81712d",
        "colab": {
          "base_uri": "https://localhost:8080/",
          "height": 226
        }
      },
      "source": [
        "data.head()"
      ],
      "execution_count": 0,
      "outputs": [
        {
          "output_type": "execute_result",
          "data": {
            "text/html": [
              "<div>\n",
              "<style scoped>\n",
              "    .dataframe tbody tr th:only-of-type {\n",
              "        vertical-align: middle;\n",
              "    }\n",
              "\n",
              "    .dataframe tbody tr th {\n",
              "        vertical-align: top;\n",
              "    }\n",
              "\n",
              "    .dataframe thead th {\n",
              "        text-align: right;\n",
              "    }\n",
              "</style>\n",
              "<table border=\"1\" class=\"dataframe\">\n",
              "  <thead>\n",
              "    <tr style=\"text-align: right;\">\n",
              "      <th></th>\n",
              "      <th>Age</th>\n",
              "      <th>Gender</th>\n",
              "      <th>Total_Bilirubin</th>\n",
              "      <th>Direct_Bilirubin</th>\n",
              "      <th>Alkaline_Phosphotase</th>\n",
              "      <th>Alamine_Aminotransferase</th>\n",
              "      <th>Aspartate_Aminotransferase</th>\n",
              "      <th>Total_Protiens</th>\n",
              "      <th>Albumin</th>\n",
              "      <th>Albumin_and_Globulin_Ratio</th>\n",
              "      <th>Dataset</th>\n",
              "    </tr>\n",
              "  </thead>\n",
              "  <tbody>\n",
              "    <tr>\n",
              "      <th>0</th>\n",
              "      <td>65</td>\n",
              "      <td>Female</td>\n",
              "      <td>0.7</td>\n",
              "      <td>0.1</td>\n",
              "      <td>187</td>\n",
              "      <td>16</td>\n",
              "      <td>18</td>\n",
              "      <td>6.8</td>\n",
              "      <td>3.3</td>\n",
              "      <td>0.90</td>\n",
              "      <td>1</td>\n",
              "    </tr>\n",
              "    <tr>\n",
              "      <th>1</th>\n",
              "      <td>62</td>\n",
              "      <td>Male</td>\n",
              "      <td>10.9</td>\n",
              "      <td>5.5</td>\n",
              "      <td>699</td>\n",
              "      <td>64</td>\n",
              "      <td>100</td>\n",
              "      <td>7.5</td>\n",
              "      <td>3.2</td>\n",
              "      <td>0.74</td>\n",
              "      <td>1</td>\n",
              "    </tr>\n",
              "    <tr>\n",
              "      <th>2</th>\n",
              "      <td>62</td>\n",
              "      <td>Male</td>\n",
              "      <td>7.3</td>\n",
              "      <td>4.1</td>\n",
              "      <td>490</td>\n",
              "      <td>60</td>\n",
              "      <td>68</td>\n",
              "      <td>7.0</td>\n",
              "      <td>3.3</td>\n",
              "      <td>0.89</td>\n",
              "      <td>1</td>\n",
              "    </tr>\n",
              "    <tr>\n",
              "      <th>3</th>\n",
              "      <td>58</td>\n",
              "      <td>Male</td>\n",
              "      <td>1.0</td>\n",
              "      <td>0.4</td>\n",
              "      <td>182</td>\n",
              "      <td>14</td>\n",
              "      <td>20</td>\n",
              "      <td>6.8</td>\n",
              "      <td>3.4</td>\n",
              "      <td>1.00</td>\n",
              "      <td>1</td>\n",
              "    </tr>\n",
              "    <tr>\n",
              "      <th>4</th>\n",
              "      <td>72</td>\n",
              "      <td>Male</td>\n",
              "      <td>3.9</td>\n",
              "      <td>2.0</td>\n",
              "      <td>195</td>\n",
              "      <td>27</td>\n",
              "      <td>59</td>\n",
              "      <td>7.3</td>\n",
              "      <td>2.4</td>\n",
              "      <td>0.40</td>\n",
              "      <td>1</td>\n",
              "    </tr>\n",
              "  </tbody>\n",
              "</table>\n",
              "</div>"
            ],
            "text/plain": [
              "   Age  Gender  Total_Bilirubin  ...  Albumin  Albumin_and_Globulin_Ratio  Dataset\n",
              "0   65  Female              0.7  ...      3.3                        0.90        1\n",
              "1   62    Male             10.9  ...      3.2                        0.74        1\n",
              "2   62    Male              7.3  ...      3.3                        0.89        1\n",
              "3   58    Male              1.0  ...      3.4                        1.00        1\n",
              "4   72    Male              3.9  ...      2.4                        0.40        1\n",
              "\n",
              "[5 rows x 11 columns]"
            ]
          },
          "metadata": {
            "tags": []
          },
          "execution_count": 4
        }
      ]
    },
    {
      "cell_type": "code",
      "metadata": {
        "id": "3MT_KdKBt003",
        "colab_type": "code",
        "outputId": "a2cbdf8b-d0c3-4be7-8abe-2000c2531db7",
        "colab": {
          "base_uri": "https://localhost:8080/",
          "height": 34
        }
      },
      "source": [
        "data['Gender'].unique()"
      ],
      "execution_count": 0,
      "outputs": [
        {
          "output_type": "execute_result",
          "data": {
            "text/plain": [
              "array(['Female', 'Male'], dtype=object)"
            ]
          },
          "metadata": {
            "tags": []
          },
          "execution_count": 5
        }
      ]
    },
    {
      "cell_type": "code",
      "metadata": {
        "id": "jU1RVCLAt00_",
        "colab_type": "code",
        "colab": {}
      },
      "source": [
        "data.Gender=data.Gender.replace('Female',0)\n",
        "data.Gender=data['Gender'].replace('Male',1)"
      ],
      "execution_count": 0,
      "outputs": []
    },
    {
      "cell_type": "code",
      "metadata": {
        "id": "mpyrjapZt01G",
        "colab_type": "code",
        "outputId": "73187484-3dea-404f-c231-fd30b5a2161f",
        "colab": {
          "base_uri": "https://localhost:8080/",
          "height": 226
        }
      },
      "source": [
        "data=standardise(data)\n",
        "data.head()"
      ],
      "execution_count": 0,
      "outputs": [
        {
          "output_type": "execute_result",
          "data": {
            "text/html": [
              "<div>\n",
              "<style scoped>\n",
              "    .dataframe tbody tr th:only-of-type {\n",
              "        vertical-align: middle;\n",
              "    }\n",
              "\n",
              "    .dataframe tbody tr th {\n",
              "        vertical-align: top;\n",
              "    }\n",
              "\n",
              "    .dataframe thead th {\n",
              "        text-align: right;\n",
              "    }\n",
              "</style>\n",
              "<table border=\"1\" class=\"dataframe\">\n",
              "  <thead>\n",
              "    <tr style=\"text-align: right;\">\n",
              "      <th></th>\n",
              "      <th>Age</th>\n",
              "      <th>Gender</th>\n",
              "      <th>Total_Bilirubin</th>\n",
              "      <th>Direct_Bilirubin</th>\n",
              "      <th>Alkaline_Phosphotase</th>\n",
              "      <th>Alamine_Aminotransferase</th>\n",
              "      <th>Aspartate_Aminotransferase</th>\n",
              "      <th>Total_Protiens</th>\n",
              "      <th>Albumin</th>\n",
              "      <th>Albumin_and_Globulin_Ratio</th>\n",
              "      <th>Dataset</th>\n",
              "    </tr>\n",
              "  </thead>\n",
              "  <tbody>\n",
              "    <tr>\n",
              "      <th>0</th>\n",
              "      <td>0.722222</td>\n",
              "      <td>0.0</td>\n",
              "      <td>0.009333</td>\n",
              "      <td>0.005076</td>\n",
              "      <td>0.088626</td>\n",
              "      <td>0.0080</td>\n",
              "      <td>0.003652</td>\n",
              "      <td>0.708333</td>\n",
              "      <td>0.600000</td>\n",
              "      <td>0.321429</td>\n",
              "      <td>0.5</td>\n",
              "    </tr>\n",
              "    <tr>\n",
              "      <th>1</th>\n",
              "      <td>0.688889</td>\n",
              "      <td>1.0</td>\n",
              "      <td>0.145333</td>\n",
              "      <td>0.279188</td>\n",
              "      <td>0.331280</td>\n",
              "      <td>0.0320</td>\n",
              "      <td>0.020288</td>\n",
              "      <td>0.781250</td>\n",
              "      <td>0.581818</td>\n",
              "      <td>0.264286</td>\n",
              "      <td>0.5</td>\n",
              "    </tr>\n",
              "    <tr>\n",
              "      <th>2</th>\n",
              "      <td>0.688889</td>\n",
              "      <td>1.0</td>\n",
              "      <td>0.097333</td>\n",
              "      <td>0.208122</td>\n",
              "      <td>0.232227</td>\n",
              "      <td>0.0300</td>\n",
              "      <td>0.013796</td>\n",
              "      <td>0.729167</td>\n",
              "      <td>0.600000</td>\n",
              "      <td>0.317857</td>\n",
              "      <td>0.5</td>\n",
              "    </tr>\n",
              "    <tr>\n",
              "      <th>3</th>\n",
              "      <td>0.644444</td>\n",
              "      <td>1.0</td>\n",
              "      <td>0.013333</td>\n",
              "      <td>0.020305</td>\n",
              "      <td>0.086256</td>\n",
              "      <td>0.0070</td>\n",
              "      <td>0.004058</td>\n",
              "      <td>0.708333</td>\n",
              "      <td>0.618182</td>\n",
              "      <td>0.357143</td>\n",
              "      <td>0.5</td>\n",
              "    </tr>\n",
              "    <tr>\n",
              "      <th>4</th>\n",
              "      <td>0.800000</td>\n",
              "      <td>1.0</td>\n",
              "      <td>0.052000</td>\n",
              "      <td>0.101523</td>\n",
              "      <td>0.092417</td>\n",
              "      <td>0.0135</td>\n",
              "      <td>0.011970</td>\n",
              "      <td>0.760417</td>\n",
              "      <td>0.436364</td>\n",
              "      <td>0.142857</td>\n",
              "      <td>0.5</td>\n",
              "    </tr>\n",
              "  </tbody>\n",
              "</table>\n",
              "</div>"
            ],
            "text/plain": [
              "        Age  Gender  ...  Albumin_and_Globulin_Ratio  Dataset\n",
              "0  0.722222     0.0  ...                    0.321429      0.5\n",
              "1  0.688889     1.0  ...                    0.264286      0.5\n",
              "2  0.688889     1.0  ...                    0.317857      0.5\n",
              "3  0.644444     1.0  ...                    0.357143      0.5\n",
              "4  0.800000     1.0  ...                    0.142857      0.5\n",
              "\n",
              "[5 rows x 11 columns]"
            ]
          },
          "metadata": {
            "tags": []
          },
          "execution_count": 9
        }
      ]
    },
    {
      "cell_type": "code",
      "metadata": {
        "id": "c0dx_aV2t01N",
        "colab_type": "code",
        "colab": {}
      },
      "source": [
        "def standardise(data_set):\n",
        "  columnNames=list(data_set)\n",
        "  for name in columnNames:\n",
        "    data_set[name]=data_set[name]/max(data_set[name])\n",
        "  return data_set"
      ],
      "execution_count": 0,
      "outputs": []
    },
    {
      "cell_type": "code",
      "metadata": {
        "id": "VX1_hCrqt01T",
        "colab_type": "code",
        "outputId": "f5d852fa-3cef-43b7-9240-e105454c73d2",
        "colab": {
          "base_uri": "https://localhost:8080/",
          "height": 265
        }
      },
      "source": [
        "plt.bar(data['Total_Bilirubin'],data['Dataset'])\n",
        "plt.show()"
      ],
      "execution_count": 0,
      "outputs": [
        {
          "output_type": "display_data",
          "data": {
            "image/png": "[encoded data removed]",
            "text/plain": [
              "<Figure size 432x288 with 1 Axes>"
            ]
          },
          "metadata": {
            "tags": []
          }
        }
      ]
    },
    {
      "cell_type": "code",
      "metadata": {
        "id": "AIkyiatjt01a",
        "colab_type": "code",
        "outputId": "7580c87e-d394-45f3-b031-264bd41db8ee",
        "colab": {
          "base_uri": "https://localhost:8080/",
          "height": 225
        }
      },
      "source": [
        "data.isnull().sum()"
      ],
      "execution_count": 0,
      "outputs": [
        {
          "output_type": "execute_result",
          "data": {
            "text/plain": [
              "Age                           0\n",
              "Gender                        0\n",
              "Total_Bilirubin               0\n",
              "Direct_Bilirubin              0\n",
              "Alkaline_Phosphotase          0\n",
              "Alamine_Aminotransferase      0\n",
              "Aspartate_Aminotransferase    0\n",
              "Total_Protiens                0\n",
              "Albumin                       0\n",
              "Albumin_and_Globulin_Ratio    4\n",
              "Dataset                       0\n",
              "dtype: int64"
            ]
          },
          "metadata": {
            "tags": []
          },
          "execution_count": 31
        }
      ]
    },
    {
      "cell_type": "code",
      "metadata": {
        "id": "ip1CiZhlt01g",
        "colab_type": "code",
        "outputId": "fa2e960a-b47d-42e8-8591-1c25ce11aa1a",
        "colab": {
          "base_uri": "https://localhost:8080/",
          "height": 295
        }
      },
      "source": [
        "data.info()"
      ],
      "execution_count": 0,
      "outputs": [
        {
          "output_type": "stream",
          "text": [
            "<class 'pandas.core.frame.DataFrame'>\n",
            "RangeIndex: 583 entries, 0 to 582\n",
            "Data columns (total 11 columns):\n",
            "Age                           583 non-null float64\n",
            "Gender                        583 non-null float64\n",
            "Total_Bilirubin               583 non-null float64\n",
            "Direct_Bilirubin              583 non-null float64\n",
            "Alkaline_Phosphotase          583 non-null float64\n",
            "Alamine_Aminotransferase      583 non-null float64\n",
            "Aspartate_Aminotransferase    583 non-null float64\n",
            "Total_Protiens                583 non-null float64\n",
            "Albumin                       583 non-null float64\n",
            "Albumin_and_Globulin_Ratio    579 non-null float64\n",
            "Dataset                       583 non-null float64\n",
            "dtypes: float64(11)\n",
            "memory usage: 50.2 KB\n"
          ],
          "name": "stdout"
        }
      ]
    },
    {
      "cell_type": "code",
      "metadata": {
        "id": "CRgAfVbCt01n",
        "colab_type": "code",
        "outputId": "429d6d37-5601-438f-a3f2-917f5bd7a2d7",
        "colab": {
          "base_uri": "https://localhost:8080/",
          "height": 320
        }
      },
      "source": [
        "dataDescription=data.describe()\n",
        "dataDescription"
      ],
      "execution_count": 0,
      "outputs": [
        {
          "output_type": "execute_result",
          "data": {
            "text/html": [
              "<div>\n",
              "<style scoped>\n",
              "    .dataframe tbody tr th:only-of-type {\n",
              "        vertical-align: middle;\n",
              "    }\n",
              "\n",
              "    .dataframe tbody tr th {\n",
              "        vertical-align: top;\n",
              "    }\n",
              "\n",
              "    .dataframe thead th {\n",
              "        text-align: right;\n",
              "    }\n",
              "</style>\n",
              "<table border=\"1\" class=\"dataframe\">\n",
              "  <thead>\n",
              "    <tr style=\"text-align: right;\">\n",
              "      <th></th>\n",
              "      <th>Age</th>\n",
              "      <th>Gender</th>\n",
              "      <th>Total_Bilirubin</th>\n",
              "      <th>Direct_Bilirubin</th>\n",
              "      <th>Alkaline_Phosphotase</th>\n",
              "      <th>Alamine_Aminotransferase</th>\n",
              "      <th>Aspartate_Aminotransferase</th>\n",
              "      <th>Total_Protiens</th>\n",
              "      <th>Albumin</th>\n",
              "      <th>Albumin_and_Globulin_Ratio</th>\n",
              "      <th>Dataset</th>\n",
              "    </tr>\n",
              "  </thead>\n",
              "  <tbody>\n",
              "    <tr>\n",
              "      <th>count</th>\n",
              "      <td>583.000000</td>\n",
              "      <td>583.000000</td>\n",
              "      <td>583.000000</td>\n",
              "      <td>583.000000</td>\n",
              "      <td>583.000000</td>\n",
              "      <td>583.000000</td>\n",
              "      <td>583.000000</td>\n",
              "      <td>583.000000</td>\n",
              "      <td>583.000000</td>\n",
              "      <td>579.000000</td>\n",
              "      <td>583.000000</td>\n",
              "    </tr>\n",
              "    <tr>\n",
              "      <th>mean</th>\n",
              "      <td>0.497179</td>\n",
              "      <td>0.756432</td>\n",
              "      <td>0.043984</td>\n",
              "      <td>0.075437</td>\n",
              "      <td>0.137714</td>\n",
              "      <td>0.040357</td>\n",
              "      <td>0.022299</td>\n",
              "      <td>0.675332</td>\n",
              "      <td>0.571246</td>\n",
              "      <td>0.338237</td>\n",
              "      <td>0.643225</td>\n",
              "    </tr>\n",
              "    <tr>\n",
              "      <th>std</th>\n",
              "      <td>0.179887</td>\n",
              "      <td>0.429603</td>\n",
              "      <td>0.082794</td>\n",
              "      <td>0.142563</td>\n",
              "      <td>0.115136</td>\n",
              "      <td>0.091310</td>\n",
              "      <td>0.058616</td>\n",
              "      <td>0.113068</td>\n",
              "      <td>0.144640</td>\n",
              "      <td>0.114140</td>\n",
              "      <td>0.226245</td>\n",
              "    </tr>\n",
              "    <tr>\n",
              "      <th>min</th>\n",
              "      <td>0.044444</td>\n",
              "      <td>0.000000</td>\n",
              "      <td>0.005333</td>\n",
              "      <td>0.005076</td>\n",
              "      <td>0.029858</td>\n",
              "      <td>0.005000</td>\n",
              "      <td>0.002029</td>\n",
              "      <td>0.281250</td>\n",
              "      <td>0.163636</td>\n",
              "      <td>0.107143</td>\n",
              "      <td>0.500000</td>\n",
              "    </tr>\n",
              "    <tr>\n",
              "      <th>25%</th>\n",
              "      <td>0.366667</td>\n",
              "      <td>1.000000</td>\n",
              "      <td>0.010667</td>\n",
              "      <td>0.010152</td>\n",
              "      <td>0.083175</td>\n",
              "      <td>0.011500</td>\n",
              "      <td>0.005072</td>\n",
              "      <td>0.604167</td>\n",
              "      <td>0.472727</td>\n",
              "      <td>0.250000</td>\n",
              "      <td>0.500000</td>\n",
              "    </tr>\n",
              "    <tr>\n",
              "      <th>50%</th>\n",
              "      <td>0.500000</td>\n",
              "      <td>1.000000</td>\n",
              "      <td>0.013333</td>\n",
              "      <td>0.015228</td>\n",
              "      <td>0.098578</td>\n",
              "      <td>0.017500</td>\n",
              "      <td>0.008521</td>\n",
              "      <td>0.687500</td>\n",
              "      <td>0.563636</td>\n",
              "      <td>0.332143</td>\n",
              "      <td>0.500000</td>\n",
              "    </tr>\n",
              "    <tr>\n",
              "      <th>75%</th>\n",
              "      <td>0.644444</td>\n",
              "      <td>1.000000</td>\n",
              "      <td>0.034667</td>\n",
              "      <td>0.065990</td>\n",
              "      <td>0.141232</td>\n",
              "      <td>0.030250</td>\n",
              "      <td>0.017651</td>\n",
              "      <td>0.750000</td>\n",
              "      <td>0.690909</td>\n",
              "      <td>0.392857</td>\n",
              "      <td>1.000000</td>\n",
              "    </tr>\n",
              "    <tr>\n",
              "      <th>max</th>\n",
              "      <td>1.000000</td>\n",
              "      <td>1.000000</td>\n",
              "      <td>1.000000</td>\n",
              "      <td>1.000000</td>\n",
              "      <td>1.000000</td>\n",
              "      <td>1.000000</td>\n",
              "      <td>1.000000</td>\n",
              "      <td>1.000000</td>\n",
              "      <td>1.000000</td>\n",
              "      <td>1.000000</td>\n",
              "      <td>1.000000</td>\n",
              "    </tr>\n",
              "  </tbody>\n",
              "</table>\n",
              "</div>"
            ],
            "text/plain": [
              "              Age      Gender  ...  Albumin_and_Globulin_Ratio     Dataset\n",
              "count  583.000000  583.000000  ...                  579.000000  583.000000\n",
              "mean     0.497179    0.756432  ...                    0.338237    0.643225\n",
              "std      0.179887    0.429603  ...                    0.114140    0.226245\n",
              "min      0.044444    0.000000  ...                    0.107143    0.500000\n",
              "25%      0.366667    1.000000  ...                    0.250000    0.500000\n",
              "50%      0.500000    1.000000  ...                    0.332143    0.500000\n",
              "75%      0.644444    1.000000  ...                    0.392857    1.000000\n",
              "max      1.000000    1.000000  ...                    1.000000    1.000000\n",
              "\n",
              "[8 rows x 11 columns]"
            ]
          },
          "metadata": {
            "tags": []
          },
          "execution_count": 11
        }
      ]
    },
    {
      "cell_type": "code",
      "metadata": {
        "id": "ZlXc8Gdjt01v",
        "colab_type": "code",
        "colab": {}
      },
      "source": [
        "def removeNull(dataSet):\n",
        "  dataDescription=data.describe()\n",
        "  columnName=list(dataSet)\n",
        "  for name in columnName:\n",
        "      dataSet[name]=dataSet[name].replace(np.NaN,dataSet[name].mean())\n",
        "  return dataSet"
      ],
      "execution_count": 0,
      "outputs": []
    },
    {
      "cell_type": "code",
      "metadata": {
        "id": "bNJsKIeCt010",
        "colab_type": "code",
        "outputId": "9466575e-bdc9-45c3-936e-2bf107dc409c",
        "colab": {
          "base_uri": "https://localhost:8080/",
          "height": 208
        }
      },
      "source": [
        "data=removeNull(data)\n",
        "data.isnull().sum()"
      ],
      "execution_count": 0,
      "outputs": [
        {
          "output_type": "execute_result",
          "data": {
            "text/plain": [
              "Age                           0\n",
              "Gender                        0\n",
              "Total_Bilirubin               0\n",
              "Direct_Bilirubin              0\n",
              "Alkaline_Phosphotase          0\n",
              "Alamine_Aminotransferase      0\n",
              "Aspartate_Aminotransferase    0\n",
              "Total_Protiens                0\n",
              "Albumin                       0\n",
              "Albumin_and_Globulin_Ratio    0\n",
              "dtype: int64"
            ]
          },
          "metadata": {
            "tags": []
          },
          "execution_count": 25
        }
      ]
    },
    {
      "cell_type": "code",
      "metadata": {
        "id": "QZL2z-o5t016",
        "colab_type": "code",
        "outputId": "6be8f699-0247-4afa-afcb-7b47d7f12d59",
        "colab": {
          "base_uri": "https://localhost:8080/",
          "height": 274
        }
      },
      "source": [
        "# Create simulated datset in Python:\n",
        "# rs = np.random.RandomState(0)\n",
        "df = pd.DataFrame(data)\n",
        "# Create and print correlation matrix:\n",
        "corr = df.corr()\n",
        "\n",
        "# 'RdBu_r' & 'BrBG' are other good diverging colormaps\n",
        "corr.style.background_gradient(cmap='coolwarm')"
      ],
      "execution_count": 0,
      "outputs": [
        {
          "output_type": "execute_result",
          "data": {
            "text/html": [
              "<style  type=\"text/css\" >\n",
              "    #T_7d99486a_6f4e_11ea_9090_0242ac1c0002row0_col0 {\n",
              "            background-color:  #b40426;\n",
              "            color:  #f1f1f1;\n",
              "        }    #T_7d99486a_6f4e_11ea_9090_0242ac1c0002row0_col1 {\n",
              "            background-color:  #6687ed;\n",
              "            color:  #000000;\n",
              "        }    #T_7d99486a_6f4e_11ea_9090_0242ac1c0002row0_col2 {\n",
              "            background-color:  #799cf8;\n",
              "            color:  #000000;\n",
              "        }    #T_7d99486a_6f4e_11ea_9090_0242ac1c0002row0_col3 {\n",
              "            background-color:  #799cf8;\n",
              "            color:  #000000;\n",
              "        }    #T_7d99486a_6f4e_11ea_9090_0242ac1c0002row0_col4 {\n",
              "            background-color:  #8fb1fe;\n",
              "            color:  #000000;\n",
              "        }    #T_7d99486a_6f4e_11ea_9090_0242ac1c0002row0_col5 {\n",
              "            background-color:  #3b4cc0;\n",
              "            color:  #f1f1f1;\n",
              "        }    #T_7d99486a_6f4e_11ea_9090_0242ac1c0002row0_col6 {\n",
              "            background-color:  #4c66d6;\n",
              "            color:  #000000;\n",
              "        }    #T_7d99486a_6f4e_11ea_9090_0242ac1c0002row0_col7 {\n",
              "            background-color:  #3b4cc0;\n",
              "            color:  #f1f1f1;\n",
              "        }    #T_7d99486a_6f4e_11ea_9090_0242ac1c0002row0_col8 {\n",
              "            background-color:  #3b4cc0;\n",
              "            color:  #f1f1f1;\n",
              "        }    #T_7d99486a_6f4e_11ea_9090_0242ac1c0002row0_col9 {\n",
              "            background-color:  #3e51c5;\n",
              "            color:  #f1f1f1;\n",
              "        }    #T_7d99486a_6f4e_11ea_9090_0242ac1c0002row1_col0 {\n",
              "            background-color:  #8fb1fe;\n",
              "            color:  #000000;\n",
              "        }    #T_7d99486a_6f4e_11ea_9090_0242ac1c0002row1_col1 {\n",
              "            background-color:  #b40426;\n",
              "            color:  #f1f1f1;\n",
              "        }    #T_7d99486a_6f4e_11ea_9090_0242ac1c0002row1_col2 {\n",
              "            background-color:  #8fb1fe;\n",
              "            color:  #000000;\n",
              "        }    #T_7d99486a_6f4e_11ea_9090_0242ac1c0002row1_col3 {\n",
              "            background-color:  #93b5fe;\n",
              "            color:  #000000;\n",
              "        }    #T_7d99486a_6f4e_11ea_9090_0242ac1c0002row1_col4 {\n",
              "            background-color:  #6f92f3;\n",
              "            color:  #000000;\n",
              "        }    #T_7d99486a_6f4e_11ea_9090_0242ac1c0002row1_col5 {\n",
              "            background-color:  #6b8df0;\n",
              "            color:  #000000;\n",
              "        }    #T_7d99486a_6f4e_11ea_9090_0242ac1c0002row1_col6 {\n",
              "            background-color:  #6b8df0;\n",
              "            color:  #000000;\n",
              "        }    #T_7d99486a_6f4e_11ea_9090_0242ac1c0002row1_col7 {\n",
              "            background-color:  #5470de;\n",
              "            color:  #000000;\n",
              "        }    #T_7d99486a_6f4e_11ea_9090_0242ac1c0002row1_col8 {\n",
              "            background-color:  #6485ec;\n",
              "            color:  #000000;\n",
              "        }    #T_7d99486a_6f4e_11ea_9090_0242ac1c0002row1_col9 {\n",
              "            background-color:  #7699f6;\n",
              "            color:  #000000;\n",
              "        }    #T_7d99486a_6f4e_11ea_9090_0242ac1c0002row2_col0 {\n",
              "            background-color:  #82a6fb;\n",
              "            color:  #000000;\n",
              "        }    #T_7d99486a_6f4e_11ea_9090_0242ac1c0002row2_col1 {\n",
              "            background-color:  #6f92f3;\n",
              "            color:  #000000;\n",
              "        }    #T_7d99486a_6f4e_11ea_9090_0242ac1c0002row2_col2 {\n",
              "            background-color:  #b40426;\n",
              "            color:  #f1f1f1;\n",
              "        }    #T_7d99486a_6f4e_11ea_9090_0242ac1c0002row2_col3 {\n",
              "            background-color:  #d75445;\n",
              "            color:  #000000;\n",
              "        }    #T_7d99486a_6f4e_11ea_9090_0242ac1c0002row2_col4 {\n",
              "            background-color:  #b2ccfb;\n",
              "            color:  #000000;\n",
              "        }    #T_7d99486a_6f4e_11ea_9090_0242ac1c0002row2_col5 {\n",
              "            background-color:  #96b7ff;\n",
              "            color:  #000000;\n",
              "        }    #T_7d99486a_6f4e_11ea_9090_0242ac1c0002row2_col6 {\n",
              "            background-color:  #9ebeff;\n",
              "            color:  #000000;\n",
              "        }    #T_7d99486a_6f4e_11ea_9090_0242ac1c0002row2_col7 {\n",
              "            background-color:  #6a8bef;\n",
              "            color:  #000000;\n",
              "        }    #T_7d99486a_6f4e_11ea_9090_0242ac1c0002row2_col8 {\n",
              "            background-color:  #445acc;\n",
              "            color:  #f1f1f1;\n",
              "        }    #T_7d99486a_6f4e_11ea_9090_0242ac1c0002row2_col9 {\n",
              "            background-color:  #4055c8;\n",
              "            color:  #f1f1f1;\n",
              "        }    #T_7d99486a_6f4e_11ea_9090_0242ac1c0002row3_col0 {\n",
              "            background-color:  #81a4fb;\n",
              "            color:  #000000;\n",
              "        }    #T_7d99486a_6f4e_11ea_9090_0242ac1c0002row3_col1 {\n",
              "            background-color:  #7396f5;\n",
              "            color:  #000000;\n",
              "        }    #T_7d99486a_6f4e_11ea_9090_0242ac1c0002row3_col2 {\n",
              "            background-color:  #d75445;\n",
              "            color:  #000000;\n",
              "        }    #T_7d99486a_6f4e_11ea_9090_0242ac1c0002row3_col3 {\n",
              "            background-color:  #b40426;\n",
              "            color:  #f1f1f1;\n",
              "        }    #T_7d99486a_6f4e_11ea_9090_0242ac1c0002row3_col4 {\n",
              "            background-color:  #bad0f8;\n",
              "            color:  #000000;\n",
              "        }    #T_7d99486a_6f4e_11ea_9090_0242ac1c0002row3_col5 {\n",
              "            background-color:  #9dbdff;\n",
              "            color:  #000000;\n",
              "        }    #T_7d99486a_6f4e_11ea_9090_0242ac1c0002row3_col6 {\n",
              "            background-color:  #a3c2fe;\n",
              "            color:  #000000;\n",
              "        }    #T_7d99486a_6f4e_11ea_9090_0242ac1c0002row3_col7 {\n",
              "            background-color:  #6c8ff1;\n",
              "            color:  #000000;\n",
              "        }    #T_7d99486a_6f4e_11ea_9090_0242ac1c0002row3_col8 {\n",
              "            background-color:  #4358cb;\n",
              "            color:  #f1f1f1;\n",
              "        }    #T_7d99486a_6f4e_11ea_9090_0242ac1c0002row3_col9 {\n",
              "            background-color:  #4358cb;\n",
              "            color:  #f1f1f1;\n",
              "        }    #T_7d99486a_6f4e_11ea_9090_0242ac1c0002row4_col0 {\n",
              "            background-color:  #96b7ff;\n",
              "            color:  #000000;\n",
              "        }    #T_7d99486a_6f4e_11ea_9090_0242ac1c0002row4_col1 {\n",
              "            background-color:  #4c66d6;\n",
              "            color:  #000000;\n",
              "        }    #T_7d99486a_6f4e_11ea_9090_0242ac1c0002row4_col2 {\n",
              "            background-color:  #afcafc;\n",
              "            color:  #000000;\n",
              "        }    #T_7d99486a_6f4e_11ea_9090_0242ac1c0002row4_col3 {\n",
              "            background-color:  #b9d0f9;\n",
              "            color:  #000000;\n",
              "        }    #T_7d99486a_6f4e_11ea_9090_0242ac1c0002row4_col4 {\n",
              "            background-color:  #b40426;\n",
              "            color:  #f1f1f1;\n",
              "        }    #T_7d99486a_6f4e_11ea_9090_0242ac1c0002row4_col5 {\n",
              "            background-color:  #7a9df8;\n",
              "            color:  #000000;\n",
              "        }    #T_7d99486a_6f4e_11ea_9090_0242ac1c0002row4_col6 {\n",
              "            background-color:  #86a9fc;\n",
              "            color:  #000000;\n",
              "        }    #T_7d99486a_6f4e_11ea_9090_0242ac1c0002row4_col7 {\n",
              "            background-color:  #6485ec;\n",
              "            color:  #000000;\n",
              "        }    #T_7d99486a_6f4e_11ea_9090_0242ac1c0002row4_col8 {\n",
              "            background-color:  #536edd;\n",
              "            color:  #000000;\n",
              "        }    #T_7d99486a_6f4e_11ea_9090_0242ac1c0002row4_col9 {\n",
              "            background-color:  #3b4cc0;\n",
              "            color:  #f1f1f1;\n",
              "        }    #T_7d99486a_6f4e_11ea_9090_0242ac1c0002row5_col0 {\n",
              "            background-color:  #6788ee;\n",
              "            color:  #000000;\n",
              "        }    #T_7d99486a_6f4e_11ea_9090_0242ac1c0002row5_col1 {\n",
              "            background-color:  #6e90f2;\n",
              "            color:  #000000;\n",
              "        }    #T_7d99486a_6f4e_11ea_9090_0242ac1c0002row5_col2 {\n",
              "            background-color:  #b2ccfb;\n",
              "            color:  #000000;\n",
              "        }    #T_7d99486a_6f4e_11ea_9090_0242ac1c0002row5_col3 {\n",
              "            background-color:  #b9d0f9;\n",
              "            color:  #000000;\n",
              "        }    #T_7d99486a_6f4e_11ea_9090_0242ac1c0002row5_col4 {\n",
              "            background-color:  #9bbcff;\n",
              "            color:  #000000;\n",
              "        }    #T_7d99486a_6f4e_11ea_9090_0242ac1c0002row5_col5 {\n",
              "            background-color:  #b40426;\n",
              "            color:  #f1f1f1;\n",
              "        }    #T_7d99486a_6f4e_11ea_9090_0242ac1c0002row5_col6 {\n",
              "            background-color:  #ec8165;\n",
              "            color:  #000000;\n",
              "        }    #T_7d99486a_6f4e_11ea_9090_0242ac1c0002row5_col7 {\n",
              "            background-color:  #6180e9;\n",
              "            color:  #000000;\n",
              "        }    #T_7d99486a_6f4e_11ea_9090_0242ac1c0002row5_col8 {\n",
              "            background-color:  #7699f6;\n",
              "            color:  #000000;\n",
              "        }    #T_7d99486a_6f4e_11ea_9090_0242ac1c0002row5_col9 {\n",
              "            background-color:  #779af7;\n",
              "            color:  #000000;\n",
              "        }    #T_7d99486a_6f4e_11ea_9090_0242ac1c0002row6_col0 {\n",
              "            background-color:  #799cf8;\n",
              "            color:  #000000;\n",
              "        }    #T_7d99486a_6f4e_11ea_9090_0242ac1c0002row6_col1 {\n",
              "            background-color:  #6c8ff1;\n",
              "            color:  #000000;\n",
              "        }    #T_7d99486a_6f4e_11ea_9090_0242ac1c0002row6_col2 {\n",
              "            background-color:  #b9d0f9;\n",
              "            color:  #000000;\n",
              "        }    #T_7d99486a_6f4e_11ea_9090_0242ac1c0002row6_col3 {\n",
              "            background-color:  #bfd3f6;\n",
              "            color:  #000000;\n",
              "        }    #T_7d99486a_6f4e_11ea_9090_0242ac1c0002row6_col4 {\n",
              "            background-color:  #a7c5fe;\n",
              "            color:  #000000;\n",
              "        }    #T_7d99486a_6f4e_11ea_9090_0242ac1c0002row6_col5 {\n",
              "            background-color:  #ec7f63;\n",
              "            color:  #000000;\n",
              "        }    #T_7d99486a_6f4e_11ea_9090_0242ac1c0002row6_col6 {\n",
              "            background-color:  #b40426;\n",
              "            color:  #f1f1f1;\n",
              "        }    #T_7d99486a_6f4e_11ea_9090_0242ac1c0002row6_col7 {\n",
              "            background-color:  #6485ec;\n",
              "            color:  #000000;\n",
              "        }    #T_7d99486a_6f4e_11ea_9090_0242ac1c0002row6_col8 {\n",
              "            background-color:  #6788ee;\n",
              "            color:  #000000;\n",
              "        }    #T_7d99486a_6f4e_11ea_9090_0242ac1c0002row6_col9 {\n",
              "            background-color:  #6485ec;\n",
              "            color:  #000000;\n",
              "        }    #T_7d99486a_6f4e_11ea_9090_0242ac1c0002row7_col0 {\n",
              "            background-color:  #4c66d6;\n",
              "            color:  #000000;\n",
              "        }    #T_7d99486a_6f4e_11ea_9090_0242ac1c0002row7_col1 {\n",
              "            background-color:  #3c4ec2;\n",
              "            color:  #f1f1f1;\n",
              "        }    #T_7d99486a_6f4e_11ea_9090_0242ac1c0002row7_col2 {\n",
              "            background-color:  #7295f4;\n",
              "            color:  #000000;\n",
              "        }    #T_7d99486a_6f4e_11ea_9090_0242ac1c0002row7_col3 {\n",
              "            background-color:  #7699f6;\n",
              "            color:  #000000;\n",
              "        }    #T_7d99486a_6f4e_11ea_9090_0242ac1c0002row7_col4 {\n",
              "            background-color:  #6f92f3;\n",
              "            color:  #000000;\n",
              "        }    #T_7d99486a_6f4e_11ea_9090_0242ac1c0002row7_col5 {\n",
              "            background-color:  #465ecf;\n",
              "            color:  #f1f1f1;\n",
              "        }    #T_7d99486a_6f4e_11ea_9090_0242ac1c0002row7_col6 {\n",
              "            background-color:  #4b64d5;\n",
              "            color:  #f1f1f1;\n",
              "        }    #T_7d99486a_6f4e_11ea_9090_0242ac1c0002row7_col7 {\n",
              "            background-color:  #b40426;\n",
              "            color:  #f1f1f1;\n",
              "        }    #T_7d99486a_6f4e_11ea_9090_0242ac1c0002row7_col8 {\n",
              "            background-color:  #e8765c;\n",
              "            color:  #000000;\n",
              "        }    #T_7d99486a_6f4e_11ea_9090_0242ac1c0002row7_col9 {\n",
              "            background-color:  #bad0f8;\n",
              "            color:  #000000;\n",
              "        }    #T_7d99486a_6f4e_11ea_9090_0242ac1c0002row8_col0 {\n",
              "            background-color:  #3b4cc0;\n",
              "            color:  #f1f1f1;\n",
              "        }    #T_7d99486a_6f4e_11ea_9090_0242ac1c0002row8_col1 {\n",
              "            background-color:  #3b4cc0;\n",
              "            color:  #f1f1f1;\n",
              "        }    #T_7d99486a_6f4e_11ea_9090_0242ac1c0002row8_col2 {\n",
              "            background-color:  #3b4cc0;\n",
              "            color:  #f1f1f1;\n",
              "        }    #T_7d99486a_6f4e_11ea_9090_0242ac1c0002row8_col3 {\n",
              "            background-color:  #3b4cc0;\n",
              "            color:  #f1f1f1;\n",
              "        }    #T_7d99486a_6f4e_11ea_9090_0242ac1c0002row8_col4 {\n",
              "            background-color:  #4b64d5;\n",
              "            color:  #f1f1f1;\n",
              "        }    #T_7d99486a_6f4e_11ea_9090_0242ac1c0002row8_col5 {\n",
              "            background-color:  #4a63d3;\n",
              "            color:  #f1f1f1;\n",
              "        }    #T_7d99486a_6f4e_11ea_9090_0242ac1c0002row8_col6 {\n",
              "            background-color:  #3b4cc0;\n",
              "            color:  #f1f1f1;\n",
              "        }    #T_7d99486a_6f4e_11ea_9090_0242ac1c0002row8_col7 {\n",
              "            background-color:  #ea7b60;\n",
              "            color:  #000000;\n",
              "        }    #T_7d99486a_6f4e_11ea_9090_0242ac1c0002row8_col8 {\n",
              "            background-color:  #b40426;\n",
              "            color:  #f1f1f1;\n",
              "        }    #T_7d99486a_6f4e_11ea_9090_0242ac1c0002row8_col9 {\n",
              "            background-color:  #f59c7d;\n",
              "            color:  #000000;\n",
              "        }    #T_7d99486a_6f4e_11ea_9090_0242ac1c0002row9_col0 {\n",
              "            background-color:  #465ecf;\n",
              "            color:  #f1f1f1;\n",
              "        }    #T_7d99486a_6f4e_11ea_9090_0242ac1c0002row9_col1 {\n",
              "            background-color:  #5470de;\n",
              "            color:  #000000;\n",
              "        }    #T_7d99486a_6f4e_11ea_9090_0242ac1c0002row9_col2 {\n",
              "            background-color:  #3e51c5;\n",
              "            color:  #f1f1f1;\n",
              "        }    #T_7d99486a_6f4e_11ea_9090_0242ac1c0002row9_col3 {\n",
              "            background-color:  #4055c8;\n",
              "            color:  #f1f1f1;\n",
              "        }    #T_7d99486a_6f4e_11ea_9090_0242ac1c0002row9_col4 {\n",
              "            background-color:  #3b4cc0;\n",
              "            color:  #f1f1f1;\n",
              "        }    #T_7d99486a_6f4e_11ea_9090_0242ac1c0002row9_col5 {\n",
              "            background-color:  #516ddb;\n",
              "            color:  #000000;\n",
              "        }    #T_7d99486a_6f4e_11ea_9090_0242ac1c0002row9_col6 {\n",
              "            background-color:  #3e51c5;\n",
              "            color:  #f1f1f1;\n",
              "        }    #T_7d99486a_6f4e_11ea_9090_0242ac1c0002row9_col7 {\n",
              "            background-color:  #b1cbfc;\n",
              "            color:  #000000;\n",
              "        }    #T_7d99486a_6f4e_11ea_9090_0242ac1c0002row9_col8 {\n",
              "            background-color:  #f4987a;\n",
              "            color:  #000000;\n",
              "        }    #T_7d99486a_6f4e_11ea_9090_0242ac1c0002row9_col9 {\n",
              "            background-color:  #b40426;\n",
              "            color:  #f1f1f1;\n",
              "        }</style><table id=\"T_7d99486a_6f4e_11ea_9090_0242ac1c0002\" ><thead>    <tr>        <th class=\"blank level0\" ></th>        <th class=\"col_heading level0 col0\" >Age</th>        <th class=\"col_heading level0 col1\" >Gender</th>        <th class=\"col_heading level0 col2\" >Total_Bilirubin</th>        <th class=\"col_heading level0 col3\" >Direct_Bilirubin</th>        <th class=\"col_heading level0 col4\" >Alkaline_Phosphotase</th>        <th class=\"col_heading level0 col5\" >Alamine_Aminotransferase</th>        <th class=\"col_heading level0 col6\" >Aspartate_Aminotransferase</th>        <th class=\"col_heading level0 col7\" >Total_Protiens</th>        <th class=\"col_heading level0 col8\" >Albumin</th>        <th class=\"col_heading level0 col9\" >Albumin_and_Globulin_Ratio</th>    </tr></thead><tbody>\n",
              "                <tr>\n",
              "                        <th id=\"T_7d99486a_6f4e_11ea_9090_0242ac1c0002level0_row0\" class=\"row_heading level0 row0\" >Age</th>\n",
              "                        <td id=\"T_7d99486a_6f4e_11ea_9090_0242ac1c0002row0_col0\" class=\"data row0 col0\" >1</td>\n",
              "                        <td id=\"T_7d99486a_6f4e_11ea_9090_0242ac1c0002row0_col1\" class=\"data row0 col1\" >0.0565603</td>\n",
              "                        <td id=\"T_7d99486a_6f4e_11ea_9090_0242ac1c0002row0_col2\" class=\"data row0 col2\" >0.0117627</td>\n",
              "                        <td id=\"T_7d99486a_6f4e_11ea_9090_0242ac1c0002row0_col3\" class=\"data row0 col3\" >0.00752914</td>\n",
              "                        <td id=\"T_7d99486a_6f4e_11ea_9090_0242ac1c0002row0_col4\" class=\"data row0 col4\" >0.0804246</td>\n",
              "                        <td id=\"T_7d99486a_6f4e_11ea_9090_0242ac1c0002row0_col5\" class=\"data row0 col5\" >-0.0868828</td>\n",
              "                        <td id=\"T_7d99486a_6f4e_11ea_9090_0242ac1c0002row0_col6\" class=\"data row0 col6\" >-0.0199099</td>\n",
              "                        <td id=\"T_7d99486a_6f4e_11ea_9090_0242ac1c0002row0_col7\" class=\"data row0 col7\" >-0.187461</td>\n",
              "                        <td id=\"T_7d99486a_6f4e_11ea_9090_0242ac1c0002row0_col8\" class=\"data row0 col8\" >-0.265924</td>\n",
              "                        <td id=\"T_7d99486a_6f4e_11ea_9090_0242ac1c0002row0_col9\" class=\"data row0 col9\" >-0.216089</td>\n",
              "            </tr>\n",
              "            <tr>\n",
              "                        <th id=\"T_7d99486a_6f4e_11ea_9090_0242ac1c0002level0_row1\" class=\"row_heading level0 row1\" >Gender</th>\n",
              "                        <td id=\"T_7d99486a_6f4e_11ea_9090_0242ac1c0002row1_col0\" class=\"data row1 col0\" >0.0565603</td>\n",
              "                        <td id=\"T_7d99486a_6f4e_11ea_9090_0242ac1c0002row1_col1\" class=\"data row1 col1\" >1</td>\n",
              "                        <td id=\"T_7d99486a_6f4e_11ea_9090_0242ac1c0002row1_col2\" class=\"data row1 col2\" >0.0892908</td>\n",
              "                        <td id=\"T_7d99486a_6f4e_11ea_9090_0242ac1c0002row1_col3\" class=\"data row1 col3\" >0.100436</td>\n",
              "                        <td id=\"T_7d99486a_6f4e_11ea_9090_0242ac1c0002row1_col4\" class=\"data row1 col4\" >-0.0274962</td>\n",
              "                        <td id=\"T_7d99486a_6f4e_11ea_9090_0242ac1c0002row1_col5\" class=\"data row1 col5\" >0.0823322</td>\n",
              "                        <td id=\"T_7d99486a_6f4e_11ea_9090_0242ac1c0002row1_col6\" class=\"data row1 col6\" >0.0803362</td>\n",
              "                        <td id=\"T_7d99486a_6f4e_11ea_9090_0242ac1c0002row1_col7\" class=\"data row1 col7\" >-0.089121</td>\n",
              "                        <td id=\"T_7d99486a_6f4e_11ea_9090_0242ac1c0002row1_col8\" class=\"data row1 col8\" >-0.0937993</td>\n",
              "                        <td id=\"T_7d99486a_6f4e_11ea_9090_0242ac1c0002row1_col9\" class=\"data row1 col9\" >-0.00340381</td>\n",
              "            </tr>\n",
              "            <tr>\n",
              "                        <th id=\"T_7d99486a_6f4e_11ea_9090_0242ac1c0002level0_row2\" class=\"row_heading level0 row2\" >Total_Bilirubin</th>\n",
              "                        <td id=\"T_7d99486a_6f4e_11ea_9090_0242ac1c0002row2_col0\" class=\"data row2 col0\" >0.0117627</td>\n",
              "                        <td id=\"T_7d99486a_6f4e_11ea_9090_0242ac1c0002row2_col1\" class=\"data row2 col1\" >0.0892908</td>\n",
              "                        <td id=\"T_7d99486a_6f4e_11ea_9090_0242ac1c0002row2_col2\" class=\"data row2 col2\" >1</td>\n",
              "                        <td id=\"T_7d99486a_6f4e_11ea_9090_0242ac1c0002row2_col3\" class=\"data row2 col3\" >0.874618</td>\n",
              "                        <td id=\"T_7d99486a_6f4e_11ea_9090_0242ac1c0002row2_col4\" class=\"data row2 col4\" >0.206669</td>\n",
              "                        <td id=\"T_7d99486a_6f4e_11ea_9090_0242ac1c0002row2_col5\" class=\"data row2 col5\" >0.214065</td>\n",
              "                        <td id=\"T_7d99486a_6f4e_11ea_9090_0242ac1c0002row2_col6\" class=\"data row2 col6\" >0.237831</td>\n",
              "                        <td id=\"T_7d99486a_6f4e_11ea_9090_0242ac1c0002row2_col7\" class=\"data row2 col7\" >-0.00809934</td>\n",
              "                        <td id=\"T_7d99486a_6f4e_11ea_9090_0242ac1c0002row2_col8\" class=\"data row2 col8\" >-0.22225</td>\n",
              "                        <td id=\"T_7d99486a_6f4e_11ea_9090_0242ac1c0002row2_col9\" class=\"data row2 col9\" >-0.206159</td>\n",
              "            </tr>\n",
              "            <tr>\n",
              "                        <th id=\"T_7d99486a_6f4e_11ea_9090_0242ac1c0002level0_row3\" class=\"row_heading level0 row3\" >Direct_Bilirubin</th>\n",
              "                        <td id=\"T_7d99486a_6f4e_11ea_9090_0242ac1c0002row3_col0\" class=\"data row3 col0\" >0.00752914</td>\n",
              "                        <td id=\"T_7d99486a_6f4e_11ea_9090_0242ac1c0002row3_col1\" class=\"data row3 col1\" >0.100436</td>\n",
              "                        <td id=\"T_7d99486a_6f4e_11ea_9090_0242ac1c0002row3_col2\" class=\"data row3 col2\" >0.874618</td>\n",
              "                        <td id=\"T_7d99486a_6f4e_11ea_9090_0242ac1c0002row3_col3\" class=\"data row3 col3\" >1</td>\n",
              "                        <td id=\"T_7d99486a_6f4e_11ea_9090_0242ac1c0002row3_col4\" class=\"data row3 col4\" >0.234939</td>\n",
              "                        <td id=\"T_7d99486a_6f4e_11ea_9090_0242ac1c0002row3_col5\" class=\"data row3 col5\" >0.233894</td>\n",
              "                        <td id=\"T_7d99486a_6f4e_11ea_9090_0242ac1c0002row3_col6\" class=\"data row3 col6\" >0.257544</td>\n",
              "                        <td id=\"T_7d99486a_6f4e_11ea_9090_0242ac1c0002row3_col7\" class=\"data row3 col7\" >-0.000138741</td>\n",
              "                        <td id=\"T_7d99486a_6f4e_11ea_9090_0242ac1c0002row3_col8\" class=\"data row3 col8\" >-0.228531</td>\n",
              "                        <td id=\"T_7d99486a_6f4e_11ea_9090_0242ac1c0002row3_col9\" class=\"data row3 col9\" >-0.200004</td>\n",
              "            </tr>\n",
              "            <tr>\n",
              "                        <th id=\"T_7d99486a_6f4e_11ea_9090_0242ac1c0002level0_row4\" class=\"row_heading level0 row4\" >Alkaline_Phosphotase</th>\n",
              "                        <td id=\"T_7d99486a_6f4e_11ea_9090_0242ac1c0002row4_col0\" class=\"data row4 col0\" >0.0804246</td>\n",
              "                        <td id=\"T_7d99486a_6f4e_11ea_9090_0242ac1c0002row4_col1\" class=\"data row4 col1\" >-0.0274962</td>\n",
              "                        <td id=\"T_7d99486a_6f4e_11ea_9090_0242ac1c0002row4_col2\" class=\"data row4 col2\" >0.206669</td>\n",
              "                        <td id=\"T_7d99486a_6f4e_11ea_9090_0242ac1c0002row4_col3\" class=\"data row4 col3\" >0.234939</td>\n",
              "                        <td id=\"T_7d99486a_6f4e_11ea_9090_0242ac1c0002row4_col4\" class=\"data row4 col4\" >1</td>\n",
              "                        <td id=\"T_7d99486a_6f4e_11ea_9090_0242ac1c0002row4_col5\" class=\"data row4 col5\" >0.12568</td>\n",
              "                        <td id=\"T_7d99486a_6f4e_11ea_9090_0242ac1c0002row4_col6\" class=\"data row4 col6\" >0.167196</td>\n",
              "                        <td id=\"T_7d99486a_6f4e_11ea_9090_0242ac1c0002row4_col7\" class=\"data row4 col7\" >-0.0285144</td>\n",
              "                        <td id=\"T_7d99486a_6f4e_11ea_9090_0242ac1c0002row4_col8\" class=\"data row4 col8\" >-0.165453</td>\n",
              "                        <td id=\"T_7d99486a_6f4e_11ea_9090_0242ac1c0002row4_col9\" class=\"data row4 col9\" >-0.23396</td>\n",
              "            </tr>\n",
              "            <tr>\n",
              "                        <th id=\"T_7d99486a_6f4e_11ea_9090_0242ac1c0002level0_row5\" class=\"row_heading level0 row5\" >Alamine_Aminotransferase</th>\n",
              "                        <td id=\"T_7d99486a_6f4e_11ea_9090_0242ac1c0002row5_col0\" class=\"data row5 col0\" >-0.0868828</td>\n",
              "                        <td id=\"T_7d99486a_6f4e_11ea_9090_0242ac1c0002row5_col1\" class=\"data row5 col1\" >0.0823322</td>\n",
              "                        <td id=\"T_7d99486a_6f4e_11ea_9090_0242ac1c0002row5_col2\" class=\"data row5 col2\" >0.214065</td>\n",
              "                        <td id=\"T_7d99486a_6f4e_11ea_9090_0242ac1c0002row5_col3\" class=\"data row5 col3\" >0.233894</td>\n",
              "                        <td id=\"T_7d99486a_6f4e_11ea_9090_0242ac1c0002row5_col4\" class=\"data row5 col4\" >0.12568</td>\n",
              "                        <td id=\"T_7d99486a_6f4e_11ea_9090_0242ac1c0002row5_col5\" class=\"data row5 col5\" >1</td>\n",
              "                        <td id=\"T_7d99486a_6f4e_11ea_9090_0242ac1c0002row5_col6\" class=\"data row5 col6\" >0.791966</td>\n",
              "                        <td id=\"T_7d99486a_6f4e_11ea_9090_0242ac1c0002row5_col7\" class=\"data row5 col7\" >-0.0425182</td>\n",
              "                        <td id=\"T_7d99486a_6f4e_11ea_9090_0242ac1c0002row5_col8\" class=\"data row5 col8\" >-0.0297417</td>\n",
              "                        <td id=\"T_7d99486a_6f4e_11ea_9090_0242ac1c0002row5_col9\" class=\"data row5 col9\" >-0.0023741</td>\n",
              "            </tr>\n",
              "            <tr>\n",
              "                        <th id=\"T_7d99486a_6f4e_11ea_9090_0242ac1c0002level0_row6\" class=\"row_heading level0 row6\" >Aspartate_Aminotransferase</th>\n",
              "                        <td id=\"T_7d99486a_6f4e_11ea_9090_0242ac1c0002row6_col0\" class=\"data row6 col0\" >-0.0199099</td>\n",
              "                        <td id=\"T_7d99486a_6f4e_11ea_9090_0242ac1c0002row6_col1\" class=\"data row6 col1\" >0.0803362</td>\n",
              "                        <td id=\"T_7d99486a_6f4e_11ea_9090_0242ac1c0002row6_col2\" class=\"data row6 col2\" >0.237831</td>\n",
              "                        <td id=\"T_7d99486a_6f4e_11ea_9090_0242ac1c0002row6_col3\" class=\"data row6 col3\" >0.257544</td>\n",
              "                        <td id=\"T_7d99486a_6f4e_11ea_9090_0242ac1c0002row6_col4\" class=\"data row6 col4\" >0.167196</td>\n",
              "                        <td id=\"T_7d99486a_6f4e_11ea_9090_0242ac1c0002row6_col5\" class=\"data row6 col5\" >0.791966</td>\n",
              "                        <td id=\"T_7d99486a_6f4e_11ea_9090_0242ac1c0002row6_col6\" class=\"data row6 col6\" >1</td>\n",
              "                        <td id=\"T_7d99486a_6f4e_11ea_9090_0242ac1c0002row6_col7\" class=\"data row6 col7\" >-0.0256454</td>\n",
              "                        <td id=\"T_7d99486a_6f4e_11ea_9090_0242ac1c0002row6_col8\" class=\"data row6 col8\" >-0.0852903</td>\n",
              "                        <td id=\"T_7d99486a_6f4e_11ea_9090_0242ac1c0002row6_col9\" class=\"data row6 col9\" >-0.0700238</td>\n",
              "            </tr>\n",
              "            <tr>\n",
              "                        <th id=\"T_7d99486a_6f4e_11ea_9090_0242ac1c0002level0_row7\" class=\"row_heading level0 row7\" >Total_Protiens</th>\n",
              "                        <td id=\"T_7d99486a_6f4e_11ea_9090_0242ac1c0002row7_col0\" class=\"data row7 col0\" >-0.187461</td>\n",
              "                        <td id=\"T_7d99486a_6f4e_11ea_9090_0242ac1c0002row7_col1\" class=\"data row7 col1\" >-0.089121</td>\n",
              "                        <td id=\"T_7d99486a_6f4e_11ea_9090_0242ac1c0002row7_col2\" class=\"data row7 col2\" >-0.00809934</td>\n",
              "                        <td id=\"T_7d99486a_6f4e_11ea_9090_0242ac1c0002row7_col3\" class=\"data row7 col3\" >-0.000138741</td>\n",
              "                        <td id=\"T_7d99486a_6f4e_11ea_9090_0242ac1c0002row7_col4\" class=\"data row7 col4\" >-0.0285144</td>\n",
              "                        <td id=\"T_7d99486a_6f4e_11ea_9090_0242ac1c0002row7_col5\" class=\"data row7 col5\" >-0.0425182</td>\n",
              "                        <td id=\"T_7d99486a_6f4e_11ea_9090_0242ac1c0002row7_col6\" class=\"data row7 col6\" >-0.0256454</td>\n",
              "                        <td id=\"T_7d99486a_6f4e_11ea_9090_0242ac1c0002row7_col7\" class=\"data row7 col7\" >1</td>\n",
              "                        <td id=\"T_7d99486a_6f4e_11ea_9090_0242ac1c0002row7_col8\" class=\"data row7 col8\" >0.784053</td>\n",
              "                        <td id=\"T_7d99486a_6f4e_11ea_9090_0242ac1c0002row7_col9\" class=\"data row7 col9\" >0.233904</td>\n",
              "            </tr>\n",
              "            <tr>\n",
              "                        <th id=\"T_7d99486a_6f4e_11ea_9090_0242ac1c0002level0_row8\" class=\"row_heading level0 row8\" >Albumin</th>\n",
              "                        <td id=\"T_7d99486a_6f4e_11ea_9090_0242ac1c0002row8_col0\" class=\"data row8 col0\" >-0.265924</td>\n",
              "                        <td id=\"T_7d99486a_6f4e_11ea_9090_0242ac1c0002row8_col1\" class=\"data row8 col1\" >-0.0937993</td>\n",
              "                        <td id=\"T_7d99486a_6f4e_11ea_9090_0242ac1c0002row8_col2\" class=\"data row8 col2\" >-0.22225</td>\n",
              "                        <td id=\"T_7d99486a_6f4e_11ea_9090_0242ac1c0002row8_col3\" class=\"data row8 col3\" >-0.228531</td>\n",
              "                        <td id=\"T_7d99486a_6f4e_11ea_9090_0242ac1c0002row8_col4\" class=\"data row8 col4\" >-0.165453</td>\n",
              "                        <td id=\"T_7d99486a_6f4e_11ea_9090_0242ac1c0002row8_col5\" class=\"data row8 col5\" >-0.0297417</td>\n",
              "                        <td id=\"T_7d99486a_6f4e_11ea_9090_0242ac1c0002row8_col6\" class=\"data row8 col6\" >-0.0852903</td>\n",
              "                        <td id=\"T_7d99486a_6f4e_11ea_9090_0242ac1c0002row8_col7\" class=\"data row8 col7\" >0.784053</td>\n",
              "                        <td id=\"T_7d99486a_6f4e_11ea_9090_0242ac1c0002row8_col8\" class=\"data row8 col8\" >1</td>\n",
              "                        <td id=\"T_7d99486a_6f4e_11ea_9090_0242ac1c0002row8_col9\" class=\"data row8 col9\" >0.686322</td>\n",
              "            </tr>\n",
              "            <tr>\n",
              "                        <th id=\"T_7d99486a_6f4e_11ea_9090_0242ac1c0002level0_row9\" class=\"row_heading level0 row9\" >Albumin_and_Globulin_Ratio</th>\n",
              "                        <td id=\"T_7d99486a_6f4e_11ea_9090_0242ac1c0002row9_col0\" class=\"data row9 col0\" >-0.216089</td>\n",
              "                        <td id=\"T_7d99486a_6f4e_11ea_9090_0242ac1c0002row9_col1\" class=\"data row9 col1\" >-0.00340381</td>\n",
              "                        <td id=\"T_7d99486a_6f4e_11ea_9090_0242ac1c0002row9_col2\" class=\"data row9 col2\" >-0.206159</td>\n",
              "                        <td id=\"T_7d99486a_6f4e_11ea_9090_0242ac1c0002row9_col3\" class=\"data row9 col3\" >-0.200004</td>\n",
              "                        <td id=\"T_7d99486a_6f4e_11ea_9090_0242ac1c0002row9_col4\" class=\"data row9 col4\" >-0.23396</td>\n",
              "                        <td id=\"T_7d99486a_6f4e_11ea_9090_0242ac1c0002row9_col5\" class=\"data row9 col5\" >-0.0023741</td>\n",
              "                        <td id=\"T_7d99486a_6f4e_11ea_9090_0242ac1c0002row9_col6\" class=\"data row9 col6\" >-0.0700238</td>\n",
              "                        <td id=\"T_7d99486a_6f4e_11ea_9090_0242ac1c0002row9_col7\" class=\"data row9 col7\" >0.233904</td>\n",
              "                        <td id=\"T_7d99486a_6f4e_11ea_9090_0242ac1c0002row9_col8\" class=\"data row9 col8\" >0.686322</td>\n",
              "                        <td id=\"T_7d99486a_6f4e_11ea_9090_0242ac1c0002row9_col9\" class=\"data row9 col9\" >1</td>\n",
              "            </tr>\n",
              "    </tbody></table>"
            ],
            "text/plain": [
              "<pandas.io.formats.style.Styler at 0x7fc3a8a08fd0>"
            ]
          },
          "metadata": {
            "tags": []
          },
          "execution_count": 26
        }
      ]
    },
    {
      "cell_type": "code",
      "metadata": {
        "id": "-fBQcX7Lt02G",
        "colab_type": "code",
        "colab": {}
      },
      "source": [
        "# data.pop('Direct_Bilirubin')"
      ],
      "execution_count": 0,
      "outputs": []
    },
    {
      "cell_type": "code",
      "metadata": {
        "id": "skLnvoFEt02J",
        "colab_type": "code",
        "outputId": "b4f00912-4d3f-4ad1-c50f-03d97e9ec2db",
        "colab": {
          "base_uri": "https://localhost:8080/",
          "height": 226
        }
      },
      "source": [
        "data.head()"
      ],
      "execution_count": 0,
      "outputs": [
        {
          "output_type": "execute_result",
          "data": {
            "text/html": [
              "<div>\n",
              "<style scoped>\n",
              "    .dataframe tbody tr th:only-of-type {\n",
              "        vertical-align: middle;\n",
              "    }\n",
              "\n",
              "    .dataframe tbody tr th {\n",
              "        vertical-align: top;\n",
              "    }\n",
              "\n",
              "    .dataframe thead th {\n",
              "        text-align: right;\n",
              "    }\n",
              "</style>\n",
              "<table border=\"1\" class=\"dataframe\">\n",
              "  <thead>\n",
              "    <tr style=\"text-align: right;\">\n",
              "      <th></th>\n",
              "      <th>Age</th>\n",
              "      <th>Gender</th>\n",
              "      <th>Total_Bilirubin</th>\n",
              "      <th>Direct_Bilirubin</th>\n",
              "      <th>Alkaline_Phosphotase</th>\n",
              "      <th>Alamine_Aminotransferase</th>\n",
              "      <th>Aspartate_Aminotransferase</th>\n",
              "      <th>Total_Protiens</th>\n",
              "      <th>Albumin</th>\n",
              "      <th>Albumin_and_Globulin_Ratio</th>\n",
              "    </tr>\n",
              "  </thead>\n",
              "  <tbody>\n",
              "    <tr>\n",
              "      <th>0</th>\n",
              "      <td>0.722222</td>\n",
              "      <td>0.0</td>\n",
              "      <td>0.009333</td>\n",
              "      <td>0.005076</td>\n",
              "      <td>0.088626</td>\n",
              "      <td>0.0080</td>\n",
              "      <td>0.003652</td>\n",
              "      <td>0.708333</td>\n",
              "      <td>0.600000</td>\n",
              "      <td>0.321429</td>\n",
              "    </tr>\n",
              "    <tr>\n",
              "      <th>1</th>\n",
              "      <td>0.688889</td>\n",
              "      <td>1.0</td>\n",
              "      <td>0.145333</td>\n",
              "      <td>0.279188</td>\n",
              "      <td>0.331280</td>\n",
              "      <td>0.0320</td>\n",
              "      <td>0.020288</td>\n",
              "      <td>0.781250</td>\n",
              "      <td>0.581818</td>\n",
              "      <td>0.264286</td>\n",
              "    </tr>\n",
              "    <tr>\n",
              "      <th>2</th>\n",
              "      <td>0.688889</td>\n",
              "      <td>1.0</td>\n",
              "      <td>0.097333</td>\n",
              "      <td>0.208122</td>\n",
              "      <td>0.232227</td>\n",
              "      <td>0.0300</td>\n",
              "      <td>0.013796</td>\n",
              "      <td>0.729167</td>\n",
              "      <td>0.600000</td>\n",
              "      <td>0.317857</td>\n",
              "    </tr>\n",
              "    <tr>\n",
              "      <th>3</th>\n",
              "      <td>0.644444</td>\n",
              "      <td>1.0</td>\n",
              "      <td>0.013333</td>\n",
              "      <td>0.020305</td>\n",
              "      <td>0.086256</td>\n",
              "      <td>0.0070</td>\n",
              "      <td>0.004058</td>\n",
              "      <td>0.708333</td>\n",
              "      <td>0.618182</td>\n",
              "      <td>0.357143</td>\n",
              "    </tr>\n",
              "    <tr>\n",
              "      <th>4</th>\n",
              "      <td>0.800000</td>\n",
              "      <td>1.0</td>\n",
              "      <td>0.052000</td>\n",
              "      <td>0.101523</td>\n",
              "      <td>0.092417</td>\n",
              "      <td>0.0135</td>\n",
              "      <td>0.011970</td>\n",
              "      <td>0.760417</td>\n",
              "      <td>0.436364</td>\n",
              "      <td>0.142857</td>\n",
              "    </tr>\n",
              "  </tbody>\n",
              "</table>\n",
              "</div>"
            ],
            "text/plain": [
              "        Age  Gender  ...   Albumin  Albumin_and_Globulin_Ratio\n",
              "0  0.722222     0.0  ...  0.600000                    0.321429\n",
              "1  0.688889     1.0  ...  0.581818                    0.264286\n",
              "2  0.688889     1.0  ...  0.600000                    0.317857\n",
              "3  0.644444     1.0  ...  0.618182                    0.357143\n",
              "4  0.800000     1.0  ...  0.436364                    0.142857\n",
              "\n",
              "[5 rows x 10 columns]"
            ]
          },
          "metadata": {
            "tags": []
          },
          "execution_count": 28
        }
      ]
    },
    {
      "cell_type": "code",
      "metadata": {
        "id": "mkWvaG-Bt02O",
        "colab_type": "code",
        "outputId": "c5b1309c-1260-475a-e405-a65ea3bdd692",
        "colab": {
          "base_uri": "https://localhost:8080/",
          "height": 711
        }
      },
      "source": [
        "yData=data.pop('Dataset')\n",
        "yData.head()\n",
        "y_data=yData\n",
        "x_data=data"
      ],
      "execution_count": 0,
      "outputs": [
        {
          "output_type": "error",
          "ename": "KeyError",
          "evalue": "ignored",
          "traceback": [
            "\u001b[0;31m---------------------------------------------------------------------------\u001b[0m",
            "\u001b[0;31mKeyError\u001b[0m                                  Traceback (most recent call last)",
            "\u001b[0;32m/usr/local/lib/python3.6/dist-packages/pandas/core/indexes/base.py\u001b[0m in \u001b[0;36mget_loc\u001b[0;34m(self, key, method, tolerance)\u001b[0m\n\u001b[1;32m   2896\u001b[0m             \u001b[0;32mtry\u001b[0m\u001b[0;34m:\u001b[0m\u001b[0;34m\u001b[0m\u001b[0;34m\u001b[0m\u001b[0m\n\u001b[0;32m-> 2897\u001b[0;31m                 \u001b[0;32mreturn\u001b[0m \u001b[0mself\u001b[0m\u001b[0;34m.\u001b[0m\u001b[0m_engine\u001b[0m\u001b[0;34m.\u001b[0m\u001b[0mget_loc\u001b[0m\u001b[0;34m(\u001b[0m\u001b[0mkey\u001b[0m\u001b[0;34m)\u001b[0m\u001b[0;34m\u001b[0m\u001b[0;34m\u001b[0m\u001b[0m\n\u001b[0m\u001b[1;32m   2898\u001b[0m             \u001b[0;32mexcept\u001b[0m \u001b[0mKeyError\u001b[0m\u001b[0;34m:\u001b[0m\u001b[0;34m\u001b[0m\u001b[0;34m\u001b[0m\u001b[0m\n",
            "\u001b[0;32mpandas/_libs/index.pyx\u001b[0m in \u001b[0;36mpandas._libs.index.IndexEngine.get_loc\u001b[0;34m()\u001b[0m\n",
            "\u001b[0;32mpandas/_libs/index.pyx\u001b[0m in \u001b[0;36mpandas._libs.index.IndexEngine.get_loc\u001b[0;34m()\u001b[0m\n",
            "\u001b[0;32mpandas/_libs/hashtable_class_helper.pxi\u001b[0m in \u001b[0;36mpandas._libs.hashtable.PyObjectHashTable.get_item\u001b[0;34m()\u001b[0m\n",
            "\u001b[0;32mpandas/_libs/hashtable_class_helper.pxi\u001b[0m in \u001b[0;36mpandas._libs.hashtable.PyObjectHashTable.get_item\u001b[0;34m()\u001b[0m\n",
            "\u001b[0;31mKeyError\u001b[0m: 'Dataset'",
            "\nDuring handling of the above exception, another exception occurred:\n",
            "\u001b[0;31mKeyError\u001b[0m                                  Traceback (most recent call last)",
            "\u001b[0;32m<ipython-input-29-cf24c0947b42>\u001b[0m in \u001b[0;36m<module>\u001b[0;34m()\u001b[0m\n\u001b[0;32m----> 1\u001b[0;31m \u001b[0myData\u001b[0m\u001b[0;34m=\u001b[0m\u001b[0mdata\u001b[0m\u001b[0;34m.\u001b[0m\u001b[0mpop\u001b[0m\u001b[0;34m(\u001b[0m\u001b[0;34m'Dataset'\u001b[0m\u001b[0;34m)\u001b[0m\u001b[0;34m\u001b[0m\u001b[0;34m\u001b[0m\u001b[0m\n\u001b[0m\u001b[1;32m      2\u001b[0m \u001b[0myData\u001b[0m\u001b[0;34m.\u001b[0m\u001b[0mhead\u001b[0m\u001b[0;34m(\u001b[0m\u001b[0;34m)\u001b[0m\u001b[0;34m\u001b[0m\u001b[0;34m\u001b[0m\u001b[0m\n\u001b[1;32m      3\u001b[0m \u001b[0my_data\u001b[0m\u001b[0;34m=\u001b[0m\u001b[0myData\u001b[0m\u001b[0;34m\u001b[0m\u001b[0;34m\u001b[0m\u001b[0m\n\u001b[1;32m      4\u001b[0m \u001b[0mx_data\u001b[0m\u001b[0;34m=\u001b[0m\u001b[0mdata\u001b[0m\u001b[0;34m\u001b[0m\u001b[0;34m\u001b[0m\u001b[0m\n",
            "\u001b[0;32m/usr/local/lib/python3.6/dist-packages/pandas/core/generic.py\u001b[0m in \u001b[0;36mpop\u001b[0;34m(self, item)\u001b[0m\n\u001b[1;32m    860\u001b[0m         \u001b[0;36m3\u001b[0m  \u001b[0mmonkey\u001b[0m        \u001b[0mNaN\u001b[0m\u001b[0;34m\u001b[0m\u001b[0;34m\u001b[0m\u001b[0m\n\u001b[1;32m    861\u001b[0m         \"\"\"\n\u001b[0;32m--> 862\u001b[0;31m         \u001b[0mresult\u001b[0m \u001b[0;34m=\u001b[0m \u001b[0mself\u001b[0m\u001b[0;34m[\u001b[0m\u001b[0mitem\u001b[0m\u001b[0;34m]\u001b[0m\u001b[0;34m\u001b[0m\u001b[0;34m\u001b[0m\u001b[0m\n\u001b[0m\u001b[1;32m    863\u001b[0m         \u001b[0;32mdel\u001b[0m \u001b[0mself\u001b[0m\u001b[0;34m[\u001b[0m\u001b[0mitem\u001b[0m\u001b[0;34m]\u001b[0m\u001b[0;34m\u001b[0m\u001b[0;34m\u001b[0m\u001b[0m\n\u001b[1;32m    864\u001b[0m         \u001b[0;32mtry\u001b[0m\u001b[0;34m:\u001b[0m\u001b[0;34m\u001b[0m\u001b[0;34m\u001b[0m\u001b[0m\n",
            "\u001b[0;32m/usr/local/lib/python3.6/dist-packages/pandas/core/frame.py\u001b[0m in \u001b[0;36m__getitem__\u001b[0;34m(self, key)\u001b[0m\n\u001b[1;32m   2993\u001b[0m             \u001b[0;32mif\u001b[0m \u001b[0mself\u001b[0m\u001b[0;34m.\u001b[0m\u001b[0mcolumns\u001b[0m\u001b[0;34m.\u001b[0m\u001b[0mnlevels\u001b[0m \u001b[0;34m>\u001b[0m \u001b[0;36m1\u001b[0m\u001b[0;34m:\u001b[0m\u001b[0;34m\u001b[0m\u001b[0;34m\u001b[0m\u001b[0m\n\u001b[1;32m   2994\u001b[0m                 \u001b[0;32mreturn\u001b[0m \u001b[0mself\u001b[0m\u001b[0;34m.\u001b[0m\u001b[0m_getitem_multilevel\u001b[0m\u001b[0;34m(\u001b[0m\u001b[0mkey\u001b[0m\u001b[0;34m)\u001b[0m\u001b[0;34m\u001b[0m\u001b[0;34m\u001b[0m\u001b[0m\n\u001b[0;32m-> 2995\u001b[0;31m             \u001b[0mindexer\u001b[0m \u001b[0;34m=\u001b[0m \u001b[0mself\u001b[0m\u001b[0;34m.\u001b[0m\u001b[0mcolumns\u001b[0m\u001b[0;34m.\u001b[0m\u001b[0mget_loc\u001b[0m\u001b[0;34m(\u001b[0m\u001b[0mkey\u001b[0m\u001b[0;34m)\u001b[0m\u001b[0;34m\u001b[0m\u001b[0;34m\u001b[0m\u001b[0m\n\u001b[0m\u001b[1;32m   2996\u001b[0m             \u001b[0;32mif\u001b[0m \u001b[0mis_integer\u001b[0m\u001b[0;34m(\u001b[0m\u001b[0mindexer\u001b[0m\u001b[0;34m)\u001b[0m\u001b[0;34m:\u001b[0m\u001b[0;34m\u001b[0m\u001b[0;34m\u001b[0m\u001b[0m\n\u001b[1;32m   2997\u001b[0m                 \u001b[0mindexer\u001b[0m \u001b[0;34m=\u001b[0m \u001b[0;34m[\u001b[0m\u001b[0mindexer\u001b[0m\u001b[0;34m]\u001b[0m\u001b[0;34m\u001b[0m\u001b[0;34m\u001b[0m\u001b[0m\n",
            "\u001b[0;32m/usr/local/lib/python3.6/dist-packages/pandas/core/indexes/base.py\u001b[0m in \u001b[0;36mget_loc\u001b[0;34m(self, key, method, tolerance)\u001b[0m\n\u001b[1;32m   2897\u001b[0m                 \u001b[0;32mreturn\u001b[0m \u001b[0mself\u001b[0m\u001b[0;34m.\u001b[0m\u001b[0m_engine\u001b[0m\u001b[0;34m.\u001b[0m\u001b[0mget_loc\u001b[0m\u001b[0;34m(\u001b[0m\u001b[0mkey\u001b[0m\u001b[0;34m)\u001b[0m\u001b[0;34m\u001b[0m\u001b[0;34m\u001b[0m\u001b[0m\n\u001b[1;32m   2898\u001b[0m             \u001b[0;32mexcept\u001b[0m \u001b[0mKeyError\u001b[0m\u001b[0;34m:\u001b[0m\u001b[0;34m\u001b[0m\u001b[0;34m\u001b[0m\u001b[0m\n\u001b[0;32m-> 2899\u001b[0;31m                 \u001b[0;32mreturn\u001b[0m \u001b[0mself\u001b[0m\u001b[0;34m.\u001b[0m\u001b[0m_engine\u001b[0m\u001b[0;34m.\u001b[0m\u001b[0mget_loc\u001b[0m\u001b[0;34m(\u001b[0m\u001b[0mself\u001b[0m\u001b[0;34m.\u001b[0m\u001b[0m_maybe_cast_indexer\u001b[0m\u001b[0;34m(\u001b[0m\u001b[0mkey\u001b[0m\u001b[0;34m)\u001b[0m\u001b[0;34m)\u001b[0m\u001b[0;34m\u001b[0m\u001b[0;34m\u001b[0m\u001b[0m\n\u001b[0m\u001b[1;32m   2900\u001b[0m         \u001b[0mindexer\u001b[0m \u001b[0;34m=\u001b[0m \u001b[0mself\u001b[0m\u001b[0;34m.\u001b[0m\u001b[0mget_indexer\u001b[0m\u001b[0;34m(\u001b[0m\u001b[0;34m[\u001b[0m\u001b[0mkey\u001b[0m\u001b[0;34m]\u001b[0m\u001b[0;34m,\u001b[0m \u001b[0mmethod\u001b[0m\u001b[0;34m=\u001b[0m\u001b[0mmethod\u001b[0m\u001b[0;34m,\u001b[0m \u001b[0mtolerance\u001b[0m\u001b[0;34m=\u001b[0m\u001b[0mtolerance\u001b[0m\u001b[0;34m)\u001b[0m\u001b[0;34m\u001b[0m\u001b[0;34m\u001b[0m\u001b[0m\n\u001b[1;32m   2901\u001b[0m         \u001b[0;32mif\u001b[0m \u001b[0mindexer\u001b[0m\u001b[0;34m.\u001b[0m\u001b[0mndim\u001b[0m \u001b[0;34m>\u001b[0m \u001b[0;36m1\u001b[0m \u001b[0;32mor\u001b[0m \u001b[0mindexer\u001b[0m\u001b[0;34m.\u001b[0m\u001b[0msize\u001b[0m \u001b[0;34m>\u001b[0m \u001b[0;36m1\u001b[0m\u001b[0;34m:\u001b[0m\u001b[0;34m\u001b[0m\u001b[0;34m\u001b[0m\u001b[0m\n",
            "\u001b[0;32mpandas/_libs/index.pyx\u001b[0m in \u001b[0;36mpandas._libs.index.IndexEngine.get_loc\u001b[0;34m()\u001b[0m\n",
            "\u001b[0;32mpandas/_libs/index.pyx\u001b[0m in \u001b[0;36mpandas._libs.index.IndexEngine.get_loc\u001b[0;34m()\u001b[0m\n",
            "\u001b[0;32mpandas/_libs/hashtable_class_helper.pxi\u001b[0m in \u001b[0;36mpandas._libs.hashtable.PyObjectHashTable.get_item\u001b[0;34m()\u001b[0m\n",
            "\u001b[0;32mpandas/_libs/hashtable_class_helper.pxi\u001b[0m in \u001b[0;36mpandas._libs.hashtable.PyObjectHashTable.get_item\u001b[0;34m()\u001b[0m\n",
            "\u001b[0;31mKeyError\u001b[0m: 'Dataset'"
          ]
        }
      ]
    },
    {
      "cell_type": "code",
      "metadata": {
        "id": "WgyDQdss9AGw",
        "colab_type": "code",
        "outputId": "4e90e825-87b8-41c0-8d1c-75d0b67fbbd1",
        "colab": {
          "base_uri": "https://localhost:8080/",
          "height": 226
        }
      },
      "source": [
        "x_data.head()"
      ],
      "execution_count": 0,
      "outputs": [
        {
          "output_type": "execute_result",
          "data": {
            "text/html": [
              "<div>\n",
              "<style scoped>\n",
              "    .dataframe tbody tr th:only-of-type {\n",
              "        vertical-align: middle;\n",
              "    }\n",
              "\n",
              "    .dataframe tbody tr th {\n",
              "        vertical-align: top;\n",
              "    }\n",
              "\n",
              "    .dataframe thead th {\n",
              "        text-align: right;\n",
              "    }\n",
              "</style>\n",
              "<table border=\"1\" class=\"dataframe\">\n",
              "  <thead>\n",
              "    <tr style=\"text-align: right;\">\n",
              "      <th></th>\n",
              "      <th>Age</th>\n",
              "      <th>Gender</th>\n",
              "      <th>Total_Bilirubin</th>\n",
              "      <th>Direct_Bilirubin</th>\n",
              "      <th>Alkaline_Phosphotase</th>\n",
              "      <th>Alamine_Aminotransferase</th>\n",
              "      <th>Aspartate_Aminotransferase</th>\n",
              "      <th>Total_Protiens</th>\n",
              "      <th>Albumin</th>\n",
              "      <th>Albumin_and_Globulin_Ratio</th>\n",
              "    </tr>\n",
              "  </thead>\n",
              "  <tbody>\n",
              "    <tr>\n",
              "      <th>0</th>\n",
              "      <td>0.722222</td>\n",
              "      <td>0.0</td>\n",
              "      <td>0.009333</td>\n",
              "      <td>0.005076</td>\n",
              "      <td>0.088626</td>\n",
              "      <td>0.0080</td>\n",
              "      <td>0.003652</td>\n",
              "      <td>0.708333</td>\n",
              "      <td>0.600000</td>\n",
              "      <td>0.321429</td>\n",
              "    </tr>\n",
              "    <tr>\n",
              "      <th>1</th>\n",
              "      <td>0.688889</td>\n",
              "      <td>1.0</td>\n",
              "      <td>0.145333</td>\n",
              "      <td>0.279188</td>\n",
              "      <td>0.331280</td>\n",
              "      <td>0.0320</td>\n",
              "      <td>0.020288</td>\n",
              "      <td>0.781250</td>\n",
              "      <td>0.581818</td>\n",
              "      <td>0.264286</td>\n",
              "    </tr>\n",
              "    <tr>\n",
              "      <th>2</th>\n",
              "      <td>0.688889</td>\n",
              "      <td>1.0</td>\n",
              "      <td>0.097333</td>\n",
              "      <td>0.208122</td>\n",
              "      <td>0.232227</td>\n",
              "      <td>0.0300</td>\n",
              "      <td>0.013796</td>\n",
              "      <td>0.729167</td>\n",
              "      <td>0.600000</td>\n",
              "      <td>0.317857</td>\n",
              "    </tr>\n",
              "    <tr>\n",
              "      <th>3</th>\n",
              "      <td>0.644444</td>\n",
              "      <td>1.0</td>\n",
              "      <td>0.013333</td>\n",
              "      <td>0.020305</td>\n",
              "      <td>0.086256</td>\n",
              "      <td>0.0070</td>\n",
              "      <td>0.004058</td>\n",
              "      <td>0.708333</td>\n",
              "      <td>0.618182</td>\n",
              "      <td>0.357143</td>\n",
              "    </tr>\n",
              "    <tr>\n",
              "      <th>4</th>\n",
              "      <td>0.800000</td>\n",
              "      <td>1.0</td>\n",
              "      <td>0.052000</td>\n",
              "      <td>0.101523</td>\n",
              "      <td>0.092417</td>\n",
              "      <td>0.0135</td>\n",
              "      <td>0.011970</td>\n",
              "      <td>0.760417</td>\n",
              "      <td>0.436364</td>\n",
              "      <td>0.142857</td>\n",
              "    </tr>\n",
              "  </tbody>\n",
              "</table>\n",
              "</div>"
            ],
            "text/plain": [
              "        Age  Gender  ...   Albumin  Albumin_and_Globulin_Ratio\n",
              "0  0.722222     0.0  ...  0.600000                    0.321429\n",
              "1  0.688889     1.0  ...  0.581818                    0.264286\n",
              "2  0.688889     1.0  ...  0.600000                    0.317857\n",
              "3  0.644444     1.0  ...  0.618182                    0.357143\n",
              "4  0.800000     1.0  ...  0.436364                    0.142857\n",
              "\n",
              "[5 rows x 10 columns]"
            ]
          },
          "metadata": {
            "tags": []
          },
          "execution_count": 30
        }
      ]
    },
    {
      "cell_type": "code",
      "metadata": {
        "id": "8mL9-TSh9Ldu",
        "colab_type": "code",
        "colab": {}
      },
      "source": [
        "from sklearn.model_selection import train_test_split\n",
        "X_train, X_test, y_train, y_test = train_test_split(x_data, y_data, test_size=0.3, random_state=21)"
      ],
      "execution_count": 0,
      "outputs": []
    },
    {
      "cell_type": "code",
      "metadata": {
        "id": "a6EhS1gVMIUS",
        "colab_type": "code",
        "outputId": "44e22b56-3d3c-43f9-faf0-ca353ef50cb6",
        "colab": {
          "base_uri": "https://localhost:8080/",
          "height": 226
        }
      },
      "source": [
        "X_train.head()"
      ],
      "execution_count": 0,
      "outputs": [
        {
          "output_type": "execute_result",
          "data": {
            "text/html": [
              "<div>\n",
              "<style scoped>\n",
              "    .dataframe tbody tr th:only-of-type {\n",
              "        vertical-align: middle;\n",
              "    }\n",
              "\n",
              "    .dataframe tbody tr th {\n",
              "        vertical-align: top;\n",
              "    }\n",
              "\n",
              "    .dataframe thead th {\n",
              "        text-align: right;\n",
              "    }\n",
              "</style>\n",
              "<table border=\"1\" class=\"dataframe\">\n",
              "  <thead>\n",
              "    <tr style=\"text-align: right;\">\n",
              "      <th></th>\n",
              "      <th>Age</th>\n",
              "      <th>Gender</th>\n",
              "      <th>Total_Bilirubin</th>\n",
              "      <th>Direct_Bilirubin</th>\n",
              "      <th>Alkaline_Phosphotase</th>\n",
              "      <th>Alamine_Aminotransferase</th>\n",
              "      <th>Aspartate_Aminotransferase</th>\n",
              "      <th>Total_Protiens</th>\n",
              "      <th>Albumin</th>\n",
              "      <th>Albumin_and_Globulin_Ratio</th>\n",
              "    </tr>\n",
              "  </thead>\n",
              "  <tbody>\n",
              "    <tr>\n",
              "      <th>349</th>\n",
              "      <td>0.544444</td>\n",
              "      <td>0.0</td>\n",
              "      <td>0.010667</td>\n",
              "      <td>0.010152</td>\n",
              "      <td>0.074882</td>\n",
              "      <td>0.0095</td>\n",
              "      <td>0.003043</td>\n",
              "      <td>0.687500</td>\n",
              "      <td>0.654545</td>\n",
              "      <td>0.428571</td>\n",
              "    </tr>\n",
              "    <tr>\n",
              "      <th>204</th>\n",
              "      <td>0.233333</td>\n",
              "      <td>1.0</td>\n",
              "      <td>0.009333</td>\n",
              "      <td>0.010152</td>\n",
              "      <td>0.063981</td>\n",
              "      <td>0.0135</td>\n",
              "      <td>0.005275</td>\n",
              "      <td>0.666667</td>\n",
              "      <td>0.600000</td>\n",
              "      <td>0.357143</td>\n",
              "    </tr>\n",
              "    <tr>\n",
              "      <th>347</th>\n",
              "      <td>0.422222</td>\n",
              "      <td>1.0</td>\n",
              "      <td>0.009333</td>\n",
              "      <td>0.010152</td>\n",
              "      <td>0.102370</td>\n",
              "      <td>0.1745</td>\n",
              "      <td>0.021302</td>\n",
              "      <td>0.729167</td>\n",
              "      <td>0.636364</td>\n",
              "      <td>0.357143</td>\n",
              "    </tr>\n",
              "    <tr>\n",
              "      <th>141</th>\n",
              "      <td>0.733333</td>\n",
              "      <td>0.0</td>\n",
              "      <td>0.056000</td>\n",
              "      <td>0.106599</td>\n",
              "      <td>0.075355</td>\n",
              "      <td>0.0075</td>\n",
              "      <td>0.006086</td>\n",
              "      <td>0.739583</td>\n",
              "      <td>0.400000</td>\n",
              "      <td>0.142857</td>\n",
              "    </tr>\n",
              "    <tr>\n",
              "      <th>175</th>\n",
              "      <td>0.344444</td>\n",
              "      <td>1.0</td>\n",
              "      <td>0.010667</td>\n",
              "      <td>0.010152</td>\n",
              "      <td>0.093839</td>\n",
              "      <td>0.0215</td>\n",
              "      <td>0.006289</td>\n",
              "      <td>0.760417</td>\n",
              "      <td>0.727273</td>\n",
              "      <td>0.428571</td>\n",
              "    </tr>\n",
              "  </tbody>\n",
              "</table>\n",
              "</div>"
            ],
            "text/plain": [
              "          Age  Gender  ...   Albumin  Albumin_and_Globulin_Ratio\n",
              "349  0.544444     0.0  ...  0.654545                    0.428571\n",
              "204  0.233333     1.0  ...  0.600000                    0.357143\n",
              "347  0.422222     1.0  ...  0.636364                    0.357143\n",
              "141  0.733333     0.0  ...  0.400000                    0.142857\n",
              "175  0.344444     1.0  ...  0.727273                    0.428571\n",
              "\n",
              "[5 rows x 10 columns]"
            ]
          },
          "metadata": {
            "tags": []
          },
          "execution_count": 33
        }
      ]
    },
    {
      "cell_type": "code",
      "metadata": {
        "id": "fvbRNL66NYrn",
        "colab_type": "code",
        "colab": {}
      },
      "source": [
        "y_train=(y_train*2)-1\n",
        "y_train.head()\n",
        "y_test=(y_test*2)-1"
      ],
      "execution_count": 0,
      "outputs": []
    },
    {
      "cell_type": "code",
      "metadata": {
        "id": "QzAz7y6JLAQr",
        "colab_type": "code",
        "colab": {}
      },
      "source": [
        "clf_gini = DecisionTreeClassifier(criterion = \"gini\", \n",
        "            random_state = 120,max_features=2, min_samples_leaf=2,min_weight_fraction_leaf=.11) \n",
        "clf_entropy = DecisionTreeClassifier( \n",
        "            criterion = \"entropy\", random_state = 120, max_features=5,\n",
        "             min_samples_leaf =21108) "
      ],
      "execution_count": 0,
      "outputs": []
    },
    {
      "cell_type": "code",
      "metadata": {
        "id": "P03h_vB2NICt",
        "colab_type": "code",
        "outputId": "524fe67a-fb61-452f-a73c-96baf0c8eb31",
        "colab": {
          "base_uri": "https://localhost:8080/",
          "height": 34
        }
      },
      "source": [
        "clf_gini.fit(X_train,y_train)\n",
        "y_pred = clf_gini.predict(X_test)\n",
        "print(accuracy_score(y_test,y_pred)*100)"
      ],
      "execution_count": 0,
      "outputs": [
        {
          "output_type": "stream",
          "text": [
            "74.85714285714286\n"
          ],
          "name": "stdout"
        }
      ]
    },
    {
      "cell_type": "code",
      "metadata": {
        "id": "qDzIhmftRFy-",
        "colab_type": "code",
        "outputId": "7b347eb7-d855-4dea-a2f7-d4027ed6095b",
        "colab": {
          "base_uri": "https://localhost:8080/",
          "height": 34
        }
      },
      "source": [
        "clf_entropy.fit(X_train, y_train)\n",
        "y_pred1 = clf_entropy.predict(X_test)\n",
        "print(accuracy_score(y_test,y_pred1)*100) "
      ],
      "execution_count": 0,
      "outputs": [
        {
          "output_type": "stream",
          "text": [
            "78.28571428571428\n"
          ],
          "name": "stdout"
        }
      ]
    },
    {
      "cell_type": "code",
      "metadata": {
        "id": "ydL64-StQOed",
        "colab_type": "code",
        "outputId": "4c1ad65f-b38c-4909-89f4-bf5198242f83",
        "colab": {
          "base_uri": "https://localhost:8080/",
          "height": 69
        }
      },
      "source": [
        "from sklearn.neighbors import KNeighborsClassifier\n",
        "neigh = KNeighborsClassifier(n_neighbors=11)\n",
        "neigh.fit(X_train,y_train)"
      ],
      "execution_count": 0,
      "outputs": [
        {
          "output_type": "execute_result",
          "data": {
            "text/plain": [
              "KNeighborsClassifier(algorithm='auto', leaf_size=30, metric='minkowski',\n",
              "                     metric_params=None, n_jobs=None, n_neighbors=11, p=2,\n",
              "                     weights='uniform')"
            ]
          },
          "metadata": {
            "tags": []
          },
          "execution_count": 96
        }
      ]
    },
    {
      "cell_type": "code",
      "metadata": {
        "id": "sAlitMvCQcPE",
        "colab_type": "code",
        "outputId": "f3466ab9-f313-4e07-8746-eb15ca26ded4",
        "colab": {
          "base_uri": "https://localhost:8080/",
          "height": 34
        }
      },
      "source": [
        "pred=neigh.predict(X_test)\n",
        "print(accuracy_score(y_test,pred)*100)"
      ],
      "execution_count": 0,
      "outputs": [
        {
          "output_type": "stream",
          "text": [
            "72.0\n"
          ],
          "name": "stdout"
        }
      ]
    },
    {
      "cell_type": "code",
      "metadata": {
        "id": "Px6jQCOMSfAR",
        "colab_type": "code",
        "colab": {}
      },
      "source": [
        ""
      ],
      "execution_count": 0,
      "outputs": []
    }
  ]
}